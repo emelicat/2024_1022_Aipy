{
 "cells": [
  {
   "cell_type": "code",
   "execution_count": 78,
   "metadata": {},
   "outputs": [
    {
     "name": "stdout",
     "output_type": "stream",
     "text": [
      "賴昌韻\n",
      "吳志宣\n",
      "郭舜昇\n",
      "蔡嘉音\n",
      "李淑芳\n",
      "黃善迪\n",
      "吳志宣\n",
      "吳麗卿\n",
      "陳向愛\n",
      "郎慧萍\n",
      "劉慧君\n",
      "賴佳雯\n",
      "王怡君\n",
      "黃嘉琪\n",
      "吳孟穎\n"
     ]
    }
   ],
   "source": [
    "import random\n",
    "def get_names(nums:int=2)->list[str]:\n",
    "    with open('names.txt',encoding='utf-8',mode='r') as file:\n",
    "        names_str = file.read()\n",
    "    names:list[str] = names_str.split(sep='\\n')\n",
    "    names = random.choices(names,k=nums)\n",
    "    return names\n",
    "\n",
    "nums = int(input('請輸入學生數量(最多10位):'))\n",
    "student_names:list[str] = get_names(nums=nums)\n",
    "for name in student_names:\n",
    "    print(name)"
   ]
  },
  {
   "cell_type": "code",
   "execution_count": 59,
   "metadata": {},
   "outputs": [],
   "source": [
    "def generate_students(names:list[str]) -> list[dict]:\n",
    "    students:list[dict] = []\n",
    "    for name in names:\n",
    "        chinese = random.randint(50,100)\n",
    "        math = random.randint(50,100)\n",
    "        english = random.randint(50,100)\n",
    "        student = {'name': name, 'chinese': chinese, 'math': math, 'english': english}\n",
    "        students.append(student)\n",
    "    return students"
   ]
  },
  {
   "cell_type": "code",
   "execution_count": 79,
   "metadata": {},
   "outputs": [
    {
     "data": {
      "text/plain": [
       "[{'name': '賴昌韻', 'chinese': 76, 'math': 75, 'english': 85},\n",
       " {'name': '吳志宣', 'chinese': 75, 'math': 97, 'english': 88},\n",
       " {'name': '郭舜昇', 'chinese': 83, 'math': 59, 'english': 71},\n",
       " {'name': '蔡嘉音', 'chinese': 95, 'math': 89, 'english': 89},\n",
       " {'name': '李淑芳', 'chinese': 74, 'math': 92, 'english': 55},\n",
       " {'name': '黃善迪', 'chinese': 64, 'math': 83, 'english': 97},\n",
       " {'name': '吳志宣', 'chinese': 63, 'math': 67, 'english': 52},\n",
       " {'name': '吳麗卿', 'chinese': 57, 'math': 54, 'english': 100},\n",
       " {'name': '陳向愛', 'chinese': 95, 'math': 100, 'english': 64},\n",
       " {'name': '郎慧萍', 'chinese': 90, 'math': 85, 'english': 60},\n",
       " {'name': '劉慧君', 'chinese': 55, 'math': 79, 'english': 84},\n",
       " {'name': '賴佳雯', 'chinese': 65, 'math': 83, 'english': 68},\n",
       " {'name': '王怡君', 'chinese': 73, 'math': 63, 'english': 69},\n",
       " {'name': '黃嘉琪', 'chinese': 89, 'math': 89, 'english': 58},\n",
       " {'name': '吳孟穎', 'chinese': 72, 'math': 65, 'english': 79}]"
      ]
     },
     "execution_count": 79,
     "metadata": {},
     "output_type": "execute_result"
    }
   ],
   "source": [
    "students = generate_students(names=student_names)\n",
    "students"
   ]
  }
 ],
 "metadata": {
  "kernelspec": {
   "display_name": "Python 3",
   "language": "python",
   "name": "python3"
  },
  "language_info": {
   "codemirror_mode": {
    "name": "ipython",
    "version": 3
   },
   "file_extension": ".py",
   "mimetype": "text/x-python",
   "name": "python",
   "nbconvert_exporter": "python",
   "pygments_lexer": "ipython3",
   "version": "3.10.15"
  }
 },
 "nbformat": 4,
 "nbformat_minor": 2
}
