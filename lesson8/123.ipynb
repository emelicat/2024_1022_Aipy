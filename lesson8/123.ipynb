{
 "cells": [
  {
   "cell_type": "code",
   "execution_count": 1,
   "metadata": {},
   "outputs": [
    {
     "name": "stdout",
     "output_type": "stream",
     "text": [
      "名字:陳孝邦\n",
      "身高:176\n",
      "重量:106\n",
      "BMI:34.22004132231405\n",
      "狀態:中度肥胖\n",
      "=========================\n",
      "名字:蔡世馨\n",
      "身高:167\n",
      "重量:77\n",
      "BMI:27.60945175517229\n",
      "狀態:輕度肥胖\n",
      "=========================\n",
      "名字:鄭孟芳\n",
      "身高:190\n",
      "重量:64\n",
      "BMI:17.72853185595568\n",
      "狀態:體重過輕\n",
      "=========================\n"
     ]
    }
   ],
   "source": [
    "import random\n",
    "def get_names(nums:int=2)->list[str]:\n",
    "    with open('names.txt',encoding='utf-8',mode='r') as file:\n",
    "        names_str = file.read()\n",
    "    names:list[str] = names_str.split(sep='\\n')\n",
    "    names = random.choices(names,k=nums)\n",
    "    return names\n",
    "\n",
    "def generate_students(names:list[str]) -> list[dict]:\n",
    "    students:list[dict] = []\n",
    "    for name in names:\n",
    "        height = random.randint(140,190)\n",
    "        weight = random.randint(50,110)\n",
    "        BMI = weight / ((height/100)**2)\n",
    "        status = get_status(BMI)\n",
    "        student = {'名字': name, '身高': height, '重量': weight, 'BMI': BMI, '狀態':status}\n",
    "        students.append(student)\n",
    "    return students\n",
    "\n",
    "def get_status(BMI:int)->str:#有傳出值的function\n",
    "    if BMI >=35:\n",
    "        status = \"重度肥胖\"\n",
    "    elif BMI >= 30:\n",
    "        status = \"中度肥胖\"\n",
    "    elif BMI >= 27:\n",
    "        status = \"輕度肥胖\"\n",
    "    elif BMI >= 24:\n",
    "        status = \"過重\"\n",
    "    elif BMI >= 18.5:\n",
    "        status = \"正常範圍\"\n",
    "    else:\n",
    "        status = \"體重過輕\"\n",
    "\n",
    "    return status \n",
    "\n",
    "\n",
    "\n",
    "nums = int(input('請輸入學生數量:'))\n",
    "student_names:list[str] = get_names(nums=nums)\n",
    "students = generate_students(names=student_names)\n",
    "for name in students:\n",
    "    for key,value in name.items():\n",
    "        print(f'{key}:{value}')\n",
    "    print('=========================')"
   ]
  }
 ],
 "metadata": {
  "kernelspec": {
   "display_name": "Python 3",
   "language": "python",
   "name": "python3"
  },
  "language_info": {
   "codemirror_mode": {
    "name": "ipython",
    "version": 3
   },
   "file_extension": ".py",
   "mimetype": "text/x-python",
   "name": "python",
   "nbconvert_exporter": "python",
   "pygments_lexer": "ipython3",
   "version": "3.10.15"
  }
 },
 "nbformat": 4,
 "nbformat_minor": 2
}
