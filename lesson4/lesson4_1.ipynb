{
 "cells": [
  {
   "cell_type": "code",
   "execution_count": 37,
   "metadata": {},
   "outputs": [
    {
     "name": "stdout",
     "output_type": "stream",
     "text": [
      "公斤轉換為磅\n",
      "3.0公斤 = 6.613磅\n"
     ]
    }
   ],
   "source": [
    "KGTOP = 2.20426\n",
    "n = int(input(\"請輸入1(公斤轉磅)或是2(磅轉公斤): \"))\n",
    "\n",
    "if n == 1:\n",
    " print(\"公斤轉換為磅\")\n",
    " kilograms = float(input(\"請輸入公斤: \"))\n",
    " pounds = kilograms * KGTOP\n",
    " print(f\"{kilograms}公斤 = {pounds:.3f}磅\")\n",
    "elif n == 2:\n",
    " print(\"磅轉換為公斤\")\n",
    " pounds = float(input(\"請輸入磅: \"))\n",
    " kilograms = pounds / KGTOP\n",
    " print(f\"{pounds}磅 = {kilograms:.3f}公斤\")\n",
    "else:\n",
    " print(\"錯誤，請輸入1或2\")"
   ]
  },
  {
   "cell_type": "markdown",
   "metadata": {},
   "source": [
    "#### 公斤轉磅數\n"
   ]
  }
 ],
 "metadata": {
  "kernelspec": {
   "display_name": "Python 3",
   "language": "python",
   "name": "python3"
  },
  "language_info": {
   "codemirror_mode": {
    "name": "ipython",
    "version": 3
   },
   "file_extension": ".py",
   "mimetype": "text/x-python",
   "name": "python",
   "nbconvert_exporter": "python",
   "pygments_lexer": "ipython3",
   "version": "3.10.15"
  }
 },
 "nbformat": 4,
 "nbformat_minor": 2
}
