{
 "cells": [
  {
   "cell_type": "code",
   "execution_count": null,
   "metadata": {},
   "outputs": [],
   "source": [
    "score = eval(input('請輸入學生分數(最多三百分):'))\n",
    "if (score > 300):\n",
    "    score=300\n",
    "is_add = input(\"請問有無需要加分?(y,n)\")\n",
    "if (is_add == 'y'):\n",
    "    print('加分')"
   ]
  }
 ],
 "metadata": {
  "kernelspec": {
   "display_name": "Python 3",
   "language": "python",
   "name": "python3"
  },
  "language_info": {
   "name": "python",
   "version": "3.10.15"
  }
 },
 "nbformat": 4,
 "nbformat_minor": 2
}
