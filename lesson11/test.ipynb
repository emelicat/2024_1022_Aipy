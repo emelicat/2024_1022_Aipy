{
 "cells": [
  {
   "cell_type": "code",
   "execution_count": 7,
   "metadata": {},
   "outputs": [
    {
     "name": "stdout",
     "output_type": "stream",
     "text": [
      "姓名:蕭淑華\n",
      "身高:146\n",
      "體重:53\n",
      "BMI:24.86\n",
      "狀態:您的體重:過重\n",
      "===========================\n",
      "姓名:李進慧\n",
      "身高:155\n",
      "體重:69\n",
      "BMI:28.72\n",
      "狀態:您的體重:輕度肥胖\n",
      "===========================\n",
      "姓名:劉嘉泰\n",
      "身高:171\n",
      "體重:93\n",
      "BMI:31.8\n",
      "狀態:您的體重:中度肥胖\n",
      "===========================\n",
      "姓名:林士凱\n",
      "身高:167\n",
      "體重:71\n",
      "BMI:25.46\n",
      "狀態:您的體重:過重\n",
      "===========================\n",
      "[{'BMI': 24.86, '姓名': '蕭淑華', '狀態': '您的體重:過重', '身高': 146, '體重': 53},\n",
      " {'BMI': 28.72, '姓名': '李進慧', '狀態': '您的體重:輕度肥胖', '身高': 155, '體重': 69},\n",
      " {'BMI': 31.8, '姓名': '劉嘉泰', '狀態': '您的體重:中度肥胖', '身高': 171, '體重': 93},\n",
      " {'BMI': 25.46, '姓名': '林士凱', '狀態': '您的體重:過重', '身高': 167, '體重': 71}]\n"
     ]
    }
   ],
   "source": [
    "import random , csv , tools\n",
    "from tools import BMI\n",
    "from pprint import pprint\n",
    "if __name__ == '__main__':\n",
    "    nums = int(input('請輸入人數:'))\n",
    "    names:list[str] = tools.get_name(nums=nums)\n",
    "    students:list[BMI] = tools.generate_bmi(names=names)\n",
    "    file_dict:list[dict] = []\n",
    "    for student in students:\n",
    "        print(f\"姓名:{student.name}\")\n",
    "        print(f\"身高:{student.height}\")\n",
    "        print(f\"體重:{student.weight}\")\n",
    "        print(f\"BMI:{student.get_bmi()}\")\n",
    "        print(f\"狀態:{student.get_status()}\")\n",
    "        print(\"===========================\")\n",
    "       \n",
    "       #將資料轉換成字典\n",
    "        student_dict = {\n",
    "        \"姓名\": student.name,\n",
    "        \"身高\": student.height,\n",
    "        \"體重\": student.weight,\n",
    "        \"BMI\": student.get_bmi(),\n",
    "        \"狀態\": student.get_status()\n",
    "        }\n",
    "        file_dict.append(student_dict)  #寫入list[dict]\n",
    "    \n",
    "pprint(file_dict) #測試\n",
    "\n",
    "# bmi.csv的欄位名稱為:姓名,身高,體重,BMI,狀態\n",
    "# 存成csv檔\n",
    "with open('bmi.csv',mode='w',encoding='utf-8',newline=\"\") as file:\n",
    "   dict_writer = csv.DictWriter(file,['姓名',\"身高\",'體重','BMI','狀態'])\n",
    "   dict_writer.writeheader()\n",
    "   dict_writer.writerows(file_dict) "
   ]
  }
 ],
 "metadata": {
  "kernelspec": {
   "display_name": "Python 3",
   "language": "python",
   "name": "python3"
  },
  "language_info": {
   "codemirror_mode": {
    "name": "ipython",
    "version": 3
   },
   "file_extension": ".py",
   "mimetype": "text/x-python",
   "name": "python",
   "nbconvert_exporter": "python",
   "pygments_lexer": "ipython3",
   "version": "3.10.15"
  }
 },
 "nbformat": 4,
 "nbformat_minor": 2
}
