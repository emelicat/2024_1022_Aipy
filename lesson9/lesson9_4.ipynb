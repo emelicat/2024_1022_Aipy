{
 "cells": [
  {
   "cell_type": "code",
   "execution_count": 33,
   "metadata": {},
   "outputs": [],
   "source": [
    "class Person(object):\n",
    "    def __init__(self,name:str,age:int):\n",
    "        self.name = name\n",
    "        self.age = age\n",
    "    \n",
    "    def echo(self): #自訂的實體方法\n",
    "        print(f\"我的名字是{self.name}\")\n",
    "        print(f\"我今年{self.age}歲\")\n",
    "\n",
    "class Student(Person):\n",
    "    def __init__(self,name:str,age:int,score:int):\n",
    "       super().__init__(name=name,age=age)\n",
    "       self.score = score\n",
    "    def echo(self):\n",
    "        super().echo()\n",
    "        print(f'我的分數是{self.score}分')"
   ]
  },
  {
   "cell_type": "code",
   "execution_count": 34,
   "metadata": {},
   "outputs": [
    {
     "name": "stdout",
     "output_type": "stream",
     "text": [
      "我的名字是bob\n",
      "我今年13歲\n",
      "我的分數是99分\n"
     ]
    }
   ],
   "source": [
    "s1:Student = Student(name=\"bob\",age=13,score=99)\n",
    "s1.echo()"
   ]
  },
  {
   "cell_type": "code",
   "execution_count": 35,
   "metadata": {},
   "outputs": [
    {
     "name": "stdout",
     "output_type": "stream",
     "text": [
      "我的名字是penny\n",
      "我今年29歲\n",
      "我的分數是100分\n"
     ]
    }
   ],
   "source": [
    "s2:Student = Student(name=\"penny\",age=29,score=100)\n",
    "s2.echo()"
   ]
  },
  {
   "cell_type": "code",
   "execution_count": 41,
   "metadata": {},
   "outputs": [
    {
     "name": "stdout",
     "output_type": "stream",
     "text": [
      "我的名字是bob\n",
      "我今年13歲\n",
      "我的分數是99分\n",
      "==========================\n",
      "我的名字是penny\n",
      "我今年29歲\n",
      "我的分數是100分\n",
      "==========================\n"
     ]
    }
   ],
   "source": [
    "students:list[Student] = [s1,s2]\n",
    "for student in students:\n",
    "    student.echo()\n",
    "    print(\"==========================\")"
   ]
  },
  {
   "cell_type": "markdown",
   "metadata": {},
   "source": []
  }
 ],
 "metadata": {
  "kernelspec": {
   "display_name": "Python 3",
   "language": "python",
   "name": "python3"
  },
  "language_info": {
   "codemirror_mode": {
    "name": "ipython",
    "version": 3
   },
   "file_extension": ".py",
   "mimetype": "text/x-python",
   "name": "python",
   "nbconvert_exporter": "python",
   "pygments_lexer": "ipython3",
   "version": "3.10.15"
  }
 },
 "nbformat": 4,
 "nbformat_minor": 2
}
