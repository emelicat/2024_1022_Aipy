{
 "cells": [
  {
   "cell_type": "code",
   "execution_count": 11,
   "metadata": {},
   "outputs": [],
   "source": [
    "class BMI():\n",
    "    def __init__(self, name: str, height: int, weight: int):\n",
    "        self.name = name\n",
    "        self.height = height\n",
    "        self.weight = weight\n",
    "\n",
    "    def get_bmi(self) -> (float):\n",
    "        return round(self.weight/(self.height/100) ** 2, ndigits=2)\n",
    "\n",
    "    def status(self) -> (str):\n",
    "        bmi = self.get_bmi()\n",
    "        if bmi >= 35:\n",
    "            status=\"您的體重:重度肥胖\"\n",
    "        elif bmi >= 30:\n",
    "            status=\"您的體重:中度肥胖\"\n",
    "        elif bmi >= 27:\n",
    "            status=\"您的體重:輕度肥胖\"\n",
    "        elif bmi >= 24:\n",
    "            status=\"您的體重:過重\"\n",
    "        elif bmi >= 18.5:\n",
    "            status=\"您的體重:正常範圍\"\n",
    "        else:\n",
    "            status=\"您的體重:體重過輕\"\n",
    "        return status\n",
    "    \n"
   ]
  },
  {
   "cell_type": "code",
   "execution_count": 12,
   "metadata": {},
   "outputs": [
    {
     "data": {
      "text/plain": [
       "(21.22, '您的體重:正常範圍')"
      ]
     },
     "execution_count": 12,
     "metadata": {},
     "output_type": "execute_result"
    }
   ],
   "source": [
    "p1 = BMI(name=\"Alex\",height=175,weight=65)\n",
    "p1.get_bmi(), p1.status()\n"
   ]
  }
 ],
 "metadata": {
  "kernelspec": {
   "display_name": "Python 3",
   "language": "python",
   "name": "python3"
  },
  "language_info": {
   "codemirror_mode": {
    "name": "ipython",
    "version": 3
   },
   "file_extension": ".py",
   "mimetype": "text/x-python",
   "name": "python",
   "nbconvert_exporter": "python",
   "pygments_lexer": "ipython3",
   "version": "3.10.15"
  }
 },
 "nbformat": 4,
 "nbformat_minor": 2
}
