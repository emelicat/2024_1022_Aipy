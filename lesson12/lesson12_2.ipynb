{
 "cells": [
  {
   "cell_type": "code",
   "execution_count": null,
   "metadata": {},
   "outputs": [
    {
     "name": "stdout",
     "output_type": "stream",
     "text": [
      "您的手機號碼是:0979-298-528\n"
     ]
    }
   ],
   "source": [
    "def isphoneNember(text:str) -> bool:\n",
    "    if len(text) != 12:\n",
    "        return False\n",
    "    elif not (text[:4] or text[5:8] or text[9:]).isdecimal():\n",
    "        return False\n",
    "    elif (text[4] or text[8]) !=\"-\":\n",
    "        return False\n",
    "    else:\n",
    "        return True\n",
    "\n",
    "phone_number = input(\"請輸入手機號碼xxxx-xxx-xxx\")\n",
    "if isphoneNember(phone_number):\n",
    "    print(f\"您的手機號碼是:{phone_number}\")\n",
    "else:\n",
    "    print('手機號碼格式不正確')\n"
   ]
  },
  {
   "cell_type": "code",
   "execution_count": 2,
   "metadata": {},
   "outputs": [
    {
     "name": "stdout",
     "output_type": "stream",
     "text": [
      "您的手機號碼是:0979298528\n"
     ]
    }
   ],
   "source": [
    "#使用正規則表達式\n",
    "import re\n",
    "from re import Pattern,Match\n",
    "\n",
    "def isphoneNember(text:str) -> bool:\n",
    "    phoneNumRegex:Pattern = re.compile(r'^\\d{4}(-|_|)\\d{3}(-|_|)\\d{3}$')\n",
    "    result:Match = re.match(phoneNumRegex,text)\n",
    "    if result is None:\n",
    "        return False\n",
    "    else:\n",
    "        return True\n",
    "\n",
    "phone_number = input(\"請輸入手機號碼xxxx-xxx-xxx\")\n",
    "if isphoneNember(phone_number):\n",
    "    print(f\"您的手機號碼是:{phone_number}\")\n",
    "else:\n",
    "    print('手機號碼格式不正確')\n"
   ]
  },
  {
   "cell_type": "code",
   "execution_count": 9,
   "metadata": {},
   "outputs": [
    {
     "data": {
      "text/plain": [
       "['0979-298-528', '0976-198-205']"
      ]
     },
     "execution_count": 9,
     "metadata": {},
     "output_type": "execute_result"
    }
   ],
   "source": [
    "string = \"My phone num is 0979-298-528 and 0976-198-205\"\n",
    "phoneNumRegex:Pattern = re.compile(r'\\d{4}-\\d{3}-\\d{3}')\n",
    "digits:list = re.findall(phoneNumRegex,string)\n",
    "digits\n"
   ]
  }
 ],
 "metadata": {
  "kernelspec": {
   "display_name": "Python 3",
   "language": "python",
   "name": "python3"
  },
  "language_info": {
   "codemirror_mode": {
    "name": "ipython",
    "version": 3
   },
   "file_extension": ".py",
   "mimetype": "text/x-python",
   "name": "python",
   "nbconvert_exporter": "python",
   "pygments_lexer": "ipython3",
   "version": "3.10.15"
  }
 },
 "nbformat": 4,
 "nbformat_minor": 2
}
