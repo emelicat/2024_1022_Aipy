{
 "cells": [
  {
   "cell_type": "code",
   "execution_count": 1,
   "metadata": {},
   "outputs": [
    {
     "data": {
      "text/plain": [
       "array([[1, 2, 3],\n",
       "       [4, 5, 6]])"
      ]
     },
     "execution_count": 1,
     "metadata": {},
     "output_type": "execute_result"
    }
   ],
   "source": [
    "import numpy as np\n",
    "\n",
    "np.array([[1,2,3],[4,5,6]])"
   ]
  },
  {
   "cell_type": "code",
   "execution_count": 22,
   "metadata": {},
   "outputs": [
    {
     "data": {
      "text/plain": [
       "array([[[93, 97, 60, 46, 43],\n",
       "        [67, 60, 47, 77, 42],\n",
       "        [62, 88, 55, 58, 54],\n",
       "        [94, 66, 71, 70, 49],\n",
       "        [44, 73, 77, 70, 79],\n",
       "        [71, 88, 85, 75, 79],\n",
       "        [65, 61, 79, 92, 97],\n",
       "        [99, 85, 53, 92, 96],\n",
       "        [75, 62, 41, 68, 72],\n",
       "        [41, 84, 74, 72, 52],\n",
       "        [52, 50, 60, 97, 98],\n",
       "        [54, 56, 99, 88, 96],\n",
       "        [62, 78, 69, 97, 66],\n",
       "        [84, 42, 89, 56, 77],\n",
       "        [73, 47, 62, 74, 80],\n",
       "        [43, 51, 66, 96, 54],\n",
       "        [94, 87, 91, 43, 46],\n",
       "        [54, 63, 44, 53, 68],\n",
       "        [87, 90, 78, 50, 53],\n",
       "        [82, 53, 63, 60, 41]],\n",
       "\n",
       "       [[46, 95, 91, 51, 58],\n",
       "        [64, 96, 79, 91, 62],\n",
       "        [49, 52, 84, 49, 79],\n",
       "        [63, 96, 43, 91, 83],\n",
       "        [61, 59, 53, 92, 67],\n",
       "        [88, 98, 95, 74, 62],\n",
       "        [45, 61, 77, 99, 84],\n",
       "        [70, 70, 96, 65, 72],\n",
       "        [81, 46, 41, 87, 87],\n",
       "        [57, 94, 42, 43, 56],\n",
       "        [82, 49, 43, 58, 53],\n",
       "        [60, 55, 93, 71, 90],\n",
       "        [85, 92, 89, 58, 81],\n",
       "        [98, 78, 91, 52, 90],\n",
       "        [58, 54, 85, 68, 84],\n",
       "        [53, 42, 56, 81, 40],\n",
       "        [70, 58, 84, 73, 44],\n",
       "        [51, 44, 77, 91, 77],\n",
       "        [45, 93, 73, 88, 71],\n",
       "        [63, 61, 86, 77, 89]],\n",
       "\n",
       "       [[74, 60, 80, 47, 81],\n",
       "        [88, 72, 88, 62, 50],\n",
       "        [51, 92, 67, 45, 66],\n",
       "        [84, 53, 44, 77, 91],\n",
       "        [55, 74, 64, 59, 96],\n",
       "        [75, 56, 67, 76, 62],\n",
       "        [56, 54, 61, 95, 66],\n",
       "        [45, 43, 87, 77, 94],\n",
       "        [57, 57, 93, 73, 53],\n",
       "        [56, 86, 98, 57, 80],\n",
       "        [79, 79, 50, 73, 68],\n",
       "        [66, 48, 55, 67, 64],\n",
       "        [47, 92, 58, 47, 46],\n",
       "        [72, 59, 86, 70, 44],\n",
       "        [69, 45, 42, 58, 54],\n",
       "        [52, 79, 62, 90, 61],\n",
       "        [98, 56, 72, 58, 79],\n",
       "        [53, 84, 40, 86, 88],\n",
       "        [45, 62, 85, 88, 52],\n",
       "        [63, 76, 48, 55, 95]]])"
      ]
     },
     "execution_count": 22,
     "metadata": {},
     "output_type": "execute_result"
    }
   ],
   "source": [
    "np.random.randint(40,100,size=(3,20,5))\n"
   ]
  },
  {
   "cell_type": "code",
   "execution_count": 24,
   "metadata": {},
   "outputs": [
    {
     "data": {
      "text/plain": [
       "((3, 20, 5), 300, 3, dtype('int64'))"
      ]
     },
     "execution_count": 24,
     "metadata": {},
     "output_type": "execute_result"
    }
   ],
   "source": [
    "#查詢的property->shape,size,dtype.ndim\n",
    "\n",
    "grade5 = np.random.randint(40,100,size=(3,20,5))\n",
    "grade5.shape, grade5.size, grade5.ndim, grade5.dtype\n"
   ]
  }
 ],
 "metadata": {
  "kernelspec": {
   "display_name": "Python 3",
   "language": "python",
   "name": "python3"
  },
  "language_info": {
   "codemirror_mode": {
    "name": "ipython",
    "version": 3
   },
   "file_extension": ".py",
   "mimetype": "text/x-python",
   "name": "python",
   "nbconvert_exporter": "python",
   "pygments_lexer": "ipython3",
   "version": "3.10.15"
  }
 },
 "nbformat": 4,
 "nbformat_minor": 2
}
