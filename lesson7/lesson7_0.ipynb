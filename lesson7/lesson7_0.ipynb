{
 "cells": [
  {
   "cell_type": "code",
   "execution_count": 7,
   "metadata": {},
   "outputs": [
    {
     "name": "stdout",
     "output_type": "stream",
     "text": [
      "BMI計算機\n",
      "姓名:123\n",
      "請輸入身高(cm):160\n",
      "請輸入體重(kg):80\n",
      "123的BMI值:31.25\n",
      "123的體重:中度肥胖\n",
      "應用程式結束\n"
     ]
    }
   ],
   "source": [
    "while True:\n",
    "    try:\n",
    "        print(\"BMI計算機\")\n",
    "        name=input(\"請輸入姓名:\")\n",
    "        height = eval(input(\"請輸入身高(cm):\"))\n",
    "        weight = eval(input(\"請輸入體重(kg):\"))\n",
    "        BMI = weight / ((height/100)**2)\n",
    "        print(f\"姓名:{name}\")\n",
    "        print(f\"請輸入身高(cm):{height}\")\n",
    "        print(f\"請輸入體重(kg):{weight}\")\n",
    "        print(f\"{name}的BMI值:{BMI:.2f}\")\n",
    "        if BMI >=35:\n",
    "            print(f\"{name}的體重:重度肥胖\")\n",
    "        elif BMI >= 30:\n",
    "            print(f\"{name}的體重:中度肥胖\")\n",
    "        elif BMI >= 27:\n",
    "            print(f\"{name}的體重:輕度肥胖\")\n",
    "        elif BMI >= 24:\n",
    "            print(f\"{name}的體重:過重\")\n",
    "        elif BMI >= 18.5:\n",
    "            print(f\"{name}的體重:正常範圍\")\n",
    "        else:\n",
    "            print(f\"{name}的體重:體重過輕\")\n",
    "        answer=input(\"您還要繼續嗎?(y繼續,n結束)\")\n",
    "        if answer.upper() == 'N':\n",
    "            break\n",
    "        print(\"==============\")\n",
    "    except Exception :\n",
    "        print(\"輸入格式錯誤,請重新輸入\")\n",
    "        print(\"==============\")\n",
    "        \n",
    "print(\"應用程式結束\")"
   ]
  }
 ],
 "metadata": {
  "kernelspec": {
   "display_name": "Python 3",
   "language": "python",
   "name": "python3"
  },
  "language_info": {
   "codemirror_mode": {
    "name": "ipython",
    "version": 3
   },
   "file_extension": ".py",
   "mimetype": "text/x-python",
   "name": "python",
   "nbconvert_exporter": "python",
   "pygments_lexer": "ipython3",
   "version": "3.10.15"
  }
 },
 "nbformat": 4,
 "nbformat_minor": 2
}
